{
 "cells": [
  {
   "cell_type": "code",
   "execution_count": null,
   "id": "5d28d09a-1d07-4c30-859e-cae0a673c046",
   "metadata": {},
   "outputs": [],
   "source": [
    "from bw2data.utils import recursive_str_to_unicode\n",
    "from bw_processing.constants import DEFAULT_LICENSES\n",
    "from lxml import objectify\n",
    "from numbers import Number\n",
    "from pathlib import Path\n",
    "from typing import Optional\n",
    "import bw2io as bi\n",
    "import datetime\n",
    "import json\n",
    "import numpy as np\n",
    "import pandas as pd\n",
    "import uuid"
   ]
  },
  {
   "cell_type": "markdown",
   "id": "4bb92be0-e219-4530-a953-1bff9a61c363",
   "metadata": {},
   "source": [
    "# CAS Numbers\n",
    "\n",
    "All information from https://www.cas.org/support/documentation/chemical-substances/checkdig\n",
    "\n",
    "CAS numbers have the for `A`-`B`-`C`, where:\n",
    "\n",
    "* `A` has between 2 and 7 integers\n",
    "* `B` has 2 integers\n",
    "* `C` is a single check digit integer\n",
    "\n",
    "To calculate the check digit:\n",
    "\n",
    "Each integer *starting from the right*, and ignoring hyphens, is given a weight corresponding to its ordinal position (1-indexed). The check is calculated from the sum of the weighted values, taking the values in the ones digit. For example for `107-07-3`, the sum would be:\n",
    "\n",
    "$$ 1 \\cdot 7 + 2 \\cdot 0 + 3 \\cdot 7 + 4 \\cdot 0 + 5 \\cdot 1 = 33$$\n",
    "\n",
    "And the check digit would be 3 (the values in the ones position. Similarly, for `110-63-4`:\n",
    "\n",
    "$$ 1 \\cdot 3 + 2 \\cdot 6 + 3 \\cdot 0 + 4 \\cdot 1 + 5 \\cdot 1 = 24$$\n",
    "\n",
    "And indeed we get 4 as the check digit."
   ]
  },
  {
   "cell_type": "code",
   "execution_count": null,
   "id": "feeb17a4-90d8-4db4-bb39-d9364273abb6",
   "metadata": {},
   "outputs": [],
   "source": [
    "reference = pd.read_csv(Path.cwd() / \"inputs\" / \"ecoinventEFv3.7.csv\")\n",
    "reference"
   ]
  },
  {
   "cell_type": "markdown",
   "id": "eeda46ef-6a3f-40f7-83fc-17aa23d269a7",
   "metadata": {},
   "source": [
    "It seems like, at least in this reference data, the column `CAS No` is zero-padded (i.e. `A` is the full seven numbers, with zeros added), while `Second CAS` has the leading zeros removed."
   ]
  },
  {
   "cell_type": "code",
   "execution_count": null,
   "id": "5dd06e87-e21d-4438-b088-423a1d30a3d2",
   "metadata": {},
   "outputs": [],
   "source": [
    "reference[reference['Second CAS'] == '96-49-1']"
   ]
  },
  {
   "cell_type": "markdown",
   "id": "782cefbd-f647-4113-93ad-ce9d0e538b48",
   "metadata": {},
   "source": [
    "We set up convenience functions for these two forms:"
   ]
  },
  {
   "cell_type": "code",
   "execution_count": null,
   "id": "bf4288bb-b954-471d-9491-cc402807e6b1",
   "metadata": {},
   "outputs": [],
   "source": [
    "def check_digit(s):\n",
    "    ERROR = \"CAS Check Digit error: CAS '{}' has check digit of {}, but it should be {}\"\n",
    "    \n",
    "    total = sum((a + 1) * int(b) for a, b in zip(range(9), s.replace(\"-\", \"\")[-2::-1]))\n",
    "    if not total % 10 == int(s[-1]):\n",
    "        raise ValueError(ERROR.format(s, s[-1], total % 10))\n",
    "                \n",
    "\n",
    "def check_cas(s):\n",
    "    if not s:\n",
    "        return None\n",
    "    assert s.count(\"-\") == 2\n",
    "    check_digit(s)\n",
    "    return True\n",
    "\n",
    "\n",
    "def zero_pad_cas(s):\n",
    "    if not s:\n",
    "        return s\n",
    "    zeros = \"0\" * (12- len(s))\n",
    "    return zeros + s\n",
    "    \n",
    "    \n",
    "def no_padding_cas(s):\n",
    "    if not s:\n",
    "        return s\n",
    "    return s.lstrip(\"0\")"
   ]
  },
  {
   "cell_type": "markdown",
   "id": "40150d4c-c570-4e34-8c63-a0f8d8902768",
   "metadata": {},
   "source": [
    "Check our functions:"
   ]
  },
  {
   "cell_type": "code",
   "execution_count": null,
   "id": "3635ef37-e135-4601-b86c-35eab80c417f",
   "metadata": {},
   "outputs": [],
   "source": [
    "assert zero_pad_cas('96-49-1') == \"0000096-49-1\"\n",
    "assert no_padding_cas(\"0000096-49-1\") == '96-49-1'\n",
    "assert check_cas('96-49-1')"
   ]
  },
  {
   "cell_type": "markdown",
   "id": "3675ca35-9313-4d99-b625-b3011ef13800",
   "metadata": {},
   "source": [
    "Should raise an error:"
   ]
  },
  {
   "cell_type": "code",
   "execution_count": null,
   "id": "caf3eea0-ad08-433f-aa45-c69b085b0f84",
   "metadata": {},
   "outputs": [],
   "source": [
    "check_cas('96-49-2')"
   ]
  },
  {
   "cell_type": "markdown",
   "id": "f7b2566d-34f8-4154-a968-572d008439bc",
   "metadata": {},
   "source": [
    "Unfortunately, we also have some bad data (found because we check the check digit). Some of these have been fixed in 3.9, but we will fix it in other files as well.\n",
    "\n",
    "This is a bit tricky, as ideally we would present the data strictly as given in the input files. However, these are cases where the provided values are simply false, and this could hinder matching, which is the main purpose of generating the elementary flow lists."
   ]
  },
  {
   "cell_type": "code",
   "execution_count": null,
   "id": "b9cdeff3-cfa5-4f48-8b48-4bec7bd10cbb",
   "metadata": {},
   "outputs": [],
   "source": [
    "fixed_cas_values = {\n",
    "    '7727-34-7': '7727-43-7',  # Barite; https://pubchem.ncbi.nlm.nih.gov/compound/24414\n",
    "    '439-94-3': '7439-94-3',   # Lutetium; https://pubchem.ncbi.nlm.nih.gov/compound/23929\n",
    "    '117-15-3': '107-15-3',    # Ethylenediamine; https://pubchem.ncbi.nlm.nih.gov/compound/3301\n",
    "    '75-89-5': '74-89-5',      # Methyl amine; https://pubchem.ncbi.nlm.nih.gov/compound/6329\n",
    "}"
   ]
  },
  {
   "cell_type": "code",
   "execution_count": null,
   "id": "1d9eb81e-e86f-479d-b7e4-6591dafde9ea",
   "metadata": {},
   "outputs": [],
   "source": [
    "def fix_cas(s):\n",
    "    s = no_padding_cas(s.strip() if s else None)\n",
    "    return fixed_cas_values.get(s, s)"
   ]
  },
  {
   "cell_type": "markdown",
   "id": "404e2371-f8e0-4c91-9f67-d35ae90ad90d",
   "metadata": {},
   "source": [
    "There are a few attributes which are not provided in the XML, and which we need to retrieve from the reference data. They are:\n",
    "\n",
    "* `Class`: String, has 12 possible values, like `chemical` or energy\n",
    "* `Preferred`: Mostly missing, but sometimes `0` or `1`\n",
    "* `Second CAS`: List of strings, separated in the reference data by `;`\n",
    "\n",
    "We can make lookup dictionaries using the name and context."
   ]
  },
  {
   "cell_type": "code",
   "execution_count": null,
   "id": "eda4ea73-481a-4c6b-a1ae-14be933b3b27",
   "metadata": {},
   "outputs": [],
   "source": [
    "reference['Compound'] = list(zip(reference['Flowable'], reference['Context']))"
   ]
  },
  {
   "cell_type": "code",
   "execution_count": null,
   "id": "83fd027e-60bc-44f4-a67a-b5a3260b6323",
   "metadata": {},
   "outputs": [],
   "source": [
    "class_mapping = dict(zip(reference['Compound'], reference['Class']))\n",
    "preferred_mapping = dict(zip(reference['Compound'], reference['Preferred']))\n",
    "second_cas_mapping = dict(zip(reference['Compound'], reference['Second CAS']))"
   ]
  },
  {
   "cell_type": "markdown",
   "id": "17b708e6-bb85-4a05-918c-c397c5a8f227",
   "metadata": {},
   "source": [
    "Change values in `preferred_mapping` to integers when possible:"
   ]
  },
  {
   "cell_type": "code",
   "execution_count": null,
   "id": "0e8f5adb-2eec-4440-8a82-652e697af0a3",
   "metadata": {},
   "outputs": [],
   "source": [
    "preferred_mapping = {k: int(v) if v in {0.0, 1.0} else v for k, v in preferred_mapping.items()}"
   ]
  },
  {
   "cell_type": "markdown",
   "id": "81b4b409-7729-490e-b174-1214c8d8c854",
   "metadata": {},
   "source": [
    "We need to clean up `second_cas_mapping` to remove duplicate entries and use a single, consistent separator."
   ]
  },
  {
   "cell_type": "code",
   "execution_count": null,
   "id": "a6a8954a-0a1a-4360-944c-9cca5542c29e",
   "metadata": {},
   "outputs": [],
   "source": [
    "def clean_cas_multiple(obj):\n",
    "    if not obj or (not isinstance(obj, str) and np.isnan(obj)):\n",
    "        return None\n",
    "    return {no_padding_cas(s.strip()) for s in obj.split(\";\")}"
   ]
  },
  {
   "cell_type": "code",
   "execution_count": null,
   "id": "11dc2c9e-3cc8-4711-9180-b95b1acb9140",
   "metadata": {},
   "outputs": [],
   "source": [
    "second_cas_mapping = {k: clean_cas_multiple(v) for k, v in second_cas_mapping.items()}"
   ]
  },
  {
   "cell_type": "markdown",
   "id": "69edf0a7-9436-42f4-83bd-44a425dbc041",
   "metadata": {},
   "source": [
    "Code to read in the XML and format to UNEP format"
   ]
  },
  {
   "cell_type": "code",
   "execution_count": null,
   "id": "e5fd8bd5-06a9-494b-ab0a-a10150aa1d6b",
   "metadata": {},
   "outputs": [],
   "source": [
    "def extract_flow_data(o, separator=\"|\"):\n",
    "    cas = fix_cas(o.get(\"casNumber\"))\n",
    "    key = (\n",
    "        o.name.text, \n",
    "        \"/\".join((\n",
    "            o.compartment.compartment.text,\n",
    "            o.compartment.subcompartment.text,\n",
    "        ))\n",
    "    )\n",
    "    data = {\n",
    "        \"Flowable\": o.name.text,\n",
    "        'CAS No': zero_pad_cas(cas),\n",
    "        \"Formula\": o.get(\"formula\"),\n",
    "        \"Synonyms\": separator.join(\n",
    "            syn.text    \n",
    "            for syn in o.iterchildren()\n",
    "            if syn.tag == \"{http://www.EcoInvent.org/EcoSpold02}synonym\"\n",
    "            and syn.text \n",
    "        ),\n",
    "        \"Unit\": o.unitName.text,\n",
    "        \"Class\": class_mapping.get(key),\n",
    "        \"ExternalReference\": None,\n",
    "        'Preferred': preferred_mapping.get(key),\n",
    "        \"Context\": separator.join((\n",
    "            o.compartment.compartment.text,\n",
    "            o.compartment.subcompartment.text,\n",
    "        )),\n",
    "        \"Flow UUID\": o.get(\"id\"),\n",
    "        \"AltUnit\": None,\n",
    "        'Second CAS': separator.join(second_cas_mapping.get(key) or \"\") or None\n",
    "    }    \n",
    "    check_cas(cas)\n",
    "    return data\n",
    "    \n",
    "    \n",
    "def extract_elem_flows_xml(fp, separator=\"|\"):\n",
    "    if not isinstance(fp, Path):\n",
    "        fp = Path(fp)\n",
    "    assert fp.is_file()\n",
    "    \n",
    "    root = objectify.parse(open(fp, encoding=\"utf-8\")).getroot()\n",
    "    flow_data = recursive_str_to_unicode(\n",
    "        [extract_flow_data(ds, separator=separator) for ds in root.iterchildren()]\n",
    "    )\n",
    "    return pd.DataFrame(sorted(flow_data, key=lambda x: (x['Flowable'], x['Context'])))"
   ]
  },
  {
   "cell_type": "code",
   "execution_count": null,
   "id": "4fecf4b3-3bee-4f9b-a08a-4c731508d522",
   "metadata": {},
   "outputs": [],
   "source": [
    "BASE_DATA_DIR = Path(\"/Users/chrismutel/Sync/Documents/LCA/Ecoinvent/\")"
   ]
  },
  {
   "cell_type": "code",
   "execution_count": null,
   "id": "6f63f529-1ab5-43a1-83b3-08ab2f3b7779",
   "metadata": {},
   "outputs": [],
   "source": [
    "def to_directory_datapackage(\n",
    "            dataframe: pd.DataFrame,\n",
    "            dirpath: Path, \n",
    "            name: str,  # Should agree with https://github.com/Depart-de-Sentier/happy_family/#short-and-unique-identifiers-for-database-releases\n",
    "            description: Optional[str] = None,\n",
    "            id_: Optional[str] = None,\n",
    "            licenses: Optional[list] = None,\n",
    "            separator: str = \"|\",\n",
    "        ):\n",
    "    metadata = {\n",
    "        \"profile\": \"tabular-data-package\",  # https://dataprotocols.org/tabular-data-package/\n",
    "        \"name\": name,\n",
    "        \"description\": description,\n",
    "        \"id\": id_ or uuid.uuid4().hex,\n",
    "        \"licenses\": licenses or DEFAULT_LICENSES,\n",
    "        \"created\": datetime.datetime.utcnow().isoformat(\"T\") + \"Z\",\n",
    "        \"resources\": [{\n",
    "            \"path\": f\"{name}.csv\",\n",
    "            \"profile\": \"tabular-data-resource\",\n",
    "            \"mediatype\": \"text/csv\",\n",
    "            \"separator\": \"|\",\n",
    "            \"schema\": {\n",
    "                \"fields\": [\n",
    "                    {'name': 'Flowable', 'type': 'string'},\n",
    "                    {'name': 'CAS No', 'type': 'string'},\n",
    "                    {'name': 'Formula', 'type': 'string'},\n",
    "                    {'name': 'Synonyms', 'type': 'string', 'separated': True},\n",
    "                    {'name': 'Unit', 'type': 'string'},\n",
    "                    {'name': 'Class', 'type': 'string'},\n",
    "                    {'name': 'ExternalReference', 'type': 'string'},\n",
    "                    {'name': 'Preferred', 'type': 'boolean'},\n",
    "                    {'name': 'Context', 'type': 'string', 'separated': True},\n",
    "                    {'name': 'Flow UUID', 'type': 'string'},\n",
    "                    {'name': 'AltUnit', 'type': 'string', 'separated': True},\n",
    "                    {'name': 'Second CAS', 'type': 'string', 'separated': True},\n",
    "                ]\n",
    "            }\n",
    "        }]\n",
    "    }\n",
    "    dirpath.mkdir(exist_ok=True)\n",
    "    json.dump(metadata, open(dirpath / \"metadata.json\", \"w\"), indent=2, ensure_ascii=False)\n",
    "    dataframe.to_csv(dirpath / f\"{name}.csv\", index=False)"
   ]
  },
  {
   "cell_type": "code",
   "execution_count": null,
   "id": "6ab461bb-60e0-47d9-a411-d22e0d01e5e0",
   "metadata": {},
   "outputs": [],
   "source": [
    "separator = \"|\"\n",
    "\n",
    "for version in (\"3.6\", \"3.7\", \"3.8\", \"3.9\"):\n",
    "    name = f\"ecoinvent-{version}\"\n",
    "\n",
    "    to_directory_datapackage(\n",
    "        dataframe=extract_elem_flows_xml(\n",
    "            fp=BASE_DATA_DIR / version / \"cutoff\" / \"MasterData\" / \"ElementaryExchanges.xml\",\n",
    "            separator=separator,\n",
    "        ),\n",
    "        dirpath=Path.cwd() / \"outputs\" / name,\n",
    "        name=name,\n",
    "        description=f\"Elementary flow list as used in release {name}\",\\\n",
    "        separator=separator,\n",
    "    )"
   ]
  }
 ],
 "metadata": {
  "kernelspec": {
   "display_name": "Python 3 (ipykernel)",
   "language": "python",
   "name": "python3"
  },
  "language_info": {
   "codemirror_mode": {
    "name": "ipython",
    "version": 3
   },
   "file_extension": ".py",
   "mimetype": "text/x-python",
   "name": "python",
   "nbconvert_exporter": "python",
   "pygments_lexer": "ipython3",
   "version": "3.10.6"
  }
 },
 "nbformat": 4,
 "nbformat_minor": 5
}
