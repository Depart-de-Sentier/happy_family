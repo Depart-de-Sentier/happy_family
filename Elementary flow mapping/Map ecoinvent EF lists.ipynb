{
 "cells": [
  {
   "cell_type": "code",
   "execution_count": 1,
   "id": "7577d9f7-ffeb-4e5c-b5b5-c4e4d2679260",
   "metadata": {},
   "outputs": [],
   "source": [
    "import pandas as pd\n",
    "from pathlib import Path\n",
    "import numpy as np\n",
    "from datetime import datetime, timezone\n",
    "from merge_dataframes import merge_dataframes"
   ]
  },
  {
   "cell_type": "code",
   "execution_count": 2,
   "id": "3f687f81-b96f-4abf-a524-ead665e8d3b5",
   "metadata": {},
   "outputs": [],
   "source": [
    "def get_list(version):\n",
    "    return pd.read_csv(\n",
    "        Path.cwd().parent / \n",
    "        \"Elementary flow lists\" / \n",
    "        \"outputs\" / \n",
    "        f\"ecoinvent-{version}\" / \n",
    "        f\"ecoinvent-{version}.csv\"\n",
    "    )"
   ]
  },
  {
   "cell_type": "code",
   "execution_count": 3,
   "id": "354cb5e6-ba51-4629-bd4b-b9722c91f0d1",
   "metadata": {},
   "outputs": [],
   "source": [
    "PAIRS = [\n",
    "    (\"3.6\", \"3.7\"),\n",
    "    (\"3.7\", \"3.8\"),\n",
    "    (\"3.8\", \"3.9\"),\n",
    "]"
   ]
  },
  {
   "cell_type": "code",
   "execution_count": 4,
   "id": "73529a5b-36aa-4abe-a26a-66d45bbb6981",
   "metadata": {},
   "outputs": [
    {
     "name": "stdout",
     "output_type": "stream",
     "text": [
      "3.6 3.7\n",
      "3.7 3.8\n",
      "3.8 3.9\n",
      "Inconsistent units, fix manually\n"
     ]
    },
    {
     "data": {
      "text/html": [
       "<div>\n",
       "<style scoped>\n",
       "    .dataframe tbody tr th:only-of-type {\n",
       "        vertical-align: middle;\n",
       "    }\n",
       "\n",
       "    .dataframe tbody tr th {\n",
       "        vertical-align: top;\n",
       "    }\n",
       "\n",
       "    .dataframe thead th {\n",
       "        text-align: right;\n",
       "    }\n",
       "</style>\n",
       "<table border=\"1\" class=\"dataframe\">\n",
       "  <thead>\n",
       "    <tr style=\"text-align: right;\">\n",
       "      <th></th>\n",
       "      <th>SourceFlowName</th>\n",
       "      <th>SourceFlowUUID</th>\n",
       "      <th>SourceFlowContext</th>\n",
       "      <th>SourceUnit</th>\n",
       "      <th>TargetFlowName</th>\n",
       "      <th>TargetFlowUUID</th>\n",
       "      <th>TargetFlowContext</th>\n",
       "      <th>TargetUnit</th>\n",
       "    </tr>\n",
       "  </thead>\n",
       "  <tbody>\n",
       "    <tr>\n",
       "      <th>1845</th>\n",
       "      <td>Gas, mine, off-gas, process, coal mining</td>\n",
       "      <td>3ed5f377-344f-423a-b5ec-9a9a1162b944</td>\n",
       "      <td>natural resource|in ground</td>\n",
       "      <td>m3</td>\n",
       "      <td>Gas, mine, off-gas, process, coal mining</td>\n",
       "      <td>3ed5f377-344f-423a-b5ec-9a9a1162b944</td>\n",
       "      <td>natural resource|in ground</td>\n",
       "      <td>Sm3</td>\n",
       "    </tr>\n",
       "    <tr>\n",
       "      <th>1846</th>\n",
       "      <td>Gas, natural, in ground</td>\n",
       "      <td>7c337428-fb1b-45c7-bbb2-2ee4d29e17ba</td>\n",
       "      <td>natural resource|in ground</td>\n",
       "      <td>m3</td>\n",
       "      <td>Gas, natural</td>\n",
       "      <td>7c337428-fb1b-45c7-bbb2-2ee4d29e17ba</td>\n",
       "      <td>natural resource|in ground</td>\n",
       "      <td>Sm3</td>\n",
       "    </tr>\n",
       "  </tbody>\n",
       "</table>\n",
       "</div>"
      ],
      "text/plain": [
       "                                SourceFlowName  \\\n",
       "1845  Gas, mine, off-gas, process, coal mining   \n",
       "1846                   Gas, natural, in ground   \n",
       "\n",
       "                            SourceFlowUUID           SourceFlowContext  \\\n",
       "1845  3ed5f377-344f-423a-b5ec-9a9a1162b944  natural resource|in ground   \n",
       "1846  7c337428-fb1b-45c7-bbb2-2ee4d29e17ba  natural resource|in ground   \n",
       "\n",
       "     SourceUnit                            TargetFlowName  \\\n",
       "1845         m3  Gas, mine, off-gas, process, coal mining   \n",
       "1846         m3                              Gas, natural   \n",
       "\n",
       "                            TargetFlowUUID           TargetFlowContext  \\\n",
       "1845  3ed5f377-344f-423a-b5ec-9a9a1162b944  natural resource|in ground   \n",
       "1846  7c337428-fb1b-45c7-bbb2-2ee4d29e17ba  natural resource|in ground   \n",
       "\n",
       "     TargetUnit  \n",
       "1845        Sm3  \n",
       "1846        Sm3  "
      ]
     },
     "metadata": {},
     "output_type": "display_data"
    }
   ],
   "source": [
    "for source_version, target_version in PAIRS:\n",
    "    print(source_version, target_version)\n",
    "    source = get_list(source_version)\n",
    "    target = get_list(target_version)\n",
    "    source_list_name = f\"ecoinvent-{source_version}.csv\"\n",
    "    target_list_name = f\"ecoinvent-{target_version}.csv\"\n",
    "\n",
    "    output = Path.cwd() / \"outputs\" / f\"ecoinvent-{source_version}-ecoinvent-{target_version}\"\n",
    "    output.mkdir(parents=True, exist_ok=True)\n",
    "    \n",
    "    df = merge_dataframes(\n",
    "        get_list(source_version), \n",
    "        get_list(target_version), \n",
    "        source_list_name, \n",
    "        target_list_name, \n",
    "        \"Chris Mutel\"\n",
    "    )\n",
    "    df.to_csv(\n",
    "        output / f\"ecoinvent-{source_version}-ecoinvent-{target_version}.csv\", \n",
    "        index=False\n",
    "    )"
   ]
  },
  {
   "cell_type": "code",
   "execution_count": null,
   "id": "a7db28ea-2e6b-4311-b6d7-663e7a8a3696",
   "metadata": {},
   "outputs": [],
   "source": []
  }
 ],
 "metadata": {
  "kernelspec": {
   "display_name": "Python 3 (ipykernel)",
   "language": "python",
   "name": "python3"
  },
  "language_info": {
   "codemirror_mode": {
    "name": "ipython",
    "version": 3
   },
   "file_extension": ".py",
   "mimetype": "text/x-python",
   "name": "python",
   "nbconvert_exporter": "python",
   "pygments_lexer": "ipython3",
   "version": "3.10.6"
  }
 },
 "nbformat": 4,
 "nbformat_minor": 5
}
